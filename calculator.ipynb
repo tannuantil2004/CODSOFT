{
 "cells": [
  {
   "cell_type": "markdown",
   "id": "cd0d2037",
   "metadata": {},
   "source": [
    "#  These are function to perform calculation  and display result"
   ]
  },
  {
   "cell_type": "code",
   "execution_count": 1,
   "id": "5cfb8616",
   "metadata": {},
   "outputs": [],
   "source": [
    "def add (x,y):\n",
    "    add = x+y\n",
    "    print(\"this is the addition of given numbers :\",add)\n",
    "    return(x+y)\n",
    "\n",
    "\n",
    "def subtract (x,y):\n",
    "    subtract = x-y\n",
    "    print(\"this is the subtraction of given numbers :\",subtract)\n",
    "    return(x-y)\n",
    "\n",
    "\n",
    "def multiply (x,y):\n",
    "    multiply = x*y\n",
    "    print(\"this is the multiplication of given numbers :\",multiply)\n",
    "    return(x*y)\n",
    "\n",
    "\n",
    "def divide (x,y):\n",
    "    divide = x/y\n",
    "    print(\"this is the division of given numbers :\",divide)\n",
    "    return(x/y)\n",
    "\n",
    "\n",
    "def floor_divide (x,y):\n",
    "    f_divide = x//y\n",
    "    print(\"this is the floor division of given numbers :\",f_divide)\n",
    "    return(x//y)\n",
    "\n",
    "\n",
    "def power (x,y):\n",
    "    power = x**y\n",
    "    print(\"this is the exponent of given numbers :\",power)\n",
    "    return(x**y)\n",
    "\n",
    "\n",
    "def modulos (x,y):\n",
    "    modulos = x%y\n",
    "    print(\"this is the division reminder of given numbers :\",modulos)\n",
    "    return(x%y)"
   ]
  },
  {
   "cell_type": "markdown",
   "id": "33009576",
   "metadata": {},
   "source": [
    "# This function take the choice of operation form user  and have another format of displaying result "
   ]
  },
  {
   "cell_type": "code",
   "execution_count": 2,
   "id": "7f2c3f2c",
   "metadata": {},
   "outputs": [],
   "source": [
    "def calculator():\n",
    "    print(\"Simple Calculator\")\n",
    "    print(\"Select operation:\")\n",
    "    print(\"1. Add\")\n",
    "    print(\"2. Subtract\")\n",
    "    print(\"3. Multiply\")\n",
    "    print(\"4. Divide\")\n",
    "    print(\"5. Floor Divide\")\n",
    "    print(\"6. power\")\n",
    "    print(\"7. Modulos\")\n",
    "\n",
    "    while True:\n",
    "        try:\n",
    "            choice = int(input(\"Enter choice (1/2/3/4/5/6/7): \"))\n",
    "            if choice in [1, 2, 3, 4,5,6,7]:\n",
    "                break\n",
    "            else:\n",
    "                print(\"Invalid choice. Please choose a valid option.\")\n",
    "        except ValueError:\n",
    "            print(\"Invalid input. Please enter a number.\")\n",
    "\n",
    "    while True:\n",
    "        try:\n",
    "            num1 = float(input(\"Enter first number: \"))\n",
    "            num2 = float(input(\"Enter second number: \"))\n",
    "            break\n",
    "        except ValueError:\n",
    "            print(\"Invalid input. Please enter a valid number.\")\n",
    "    print(\"calculation in two formats\")\n",
    "\n",
    "    if choice == 1:\n",
    "        print(f\"{num1} + {num2} = {add(num1, num2)}\")\n",
    "    elif choice == 2:\n",
    "        print(f\"{num1} - {num2} = {subtract(num1, num2)}\")\n",
    "    elif choice == 3:\n",
    "        print(f\"{num1} * {num2} = {multiply(num1, num2)}\")\n",
    "    elif choice == 4:\n",
    "        try:\n",
    "            print(f\"{num1} / {num2} = {divide(num1, num2)}\")\n",
    "        except:\n",
    "            print(\"Division by 0 not possible!\")\n",
    "    elif choice == 5:\n",
    "        print(f\"{num1} // {num2} = {floor_divide(num1, num2)}\")\n",
    "    elif choice == 6:\n",
    "        print(f\"{num1} ** {num2} = {power(num1, num2)}\")\n",
    "    elif choice == 7:\n",
    "        print(f\"{num1} % {num2} = {modulos(num1, num2)}\")"
   ]
  },
  {
   "cell_type": "markdown",
   "id": "1ed44973",
   "metadata": {},
   "source": [
    "# This function include loop where it take imput as Y and N to perform more operation if Y then go back to calculator function if N then exit "
   ]
  },
  {
   "cell_type": "code",
   "execution_count": 3,
   "id": "5537b56c",
   "metadata": {},
   "outputs": [
    {
     "name": "stdout",
     "output_type": "stream",
     "text": [
      "Simple Calculator\n",
      "Select operation:\n",
      "1. Add\n",
      "2. Subtract\n",
      "3. Multiply\n",
      "4. Divide\n",
      "5. Floor Divide\n",
      "6. power\n",
      "7. Modulos\n",
      "Enter choice (1/2/3/4/5/6/7): 1\n",
      "Enter first number: 11\n",
      "Enter second number: 12\n",
      "calculation in two formats\n",
      "this is the addition of given numbers : 23.0\n",
      "11.0 + 12.0 = 23.0\n",
      "Do you want to continue? (Y,N): y\n",
      "Simple Calculator\n",
      "Select operation:\n",
      "1. Add\n",
      "2. Subtract\n",
      "3. Multiply\n",
      "4. Divide\n",
      "5. Floor Divide\n",
      "6. power\n",
      "7. Modulos\n",
      "Enter choice (1/2/3/4/5/6/7): 2\n",
      "Enter first number: 12\n",
      "Enter second number: 1.9\n",
      "calculation in two formats\n",
      "this is the subtraction of given numbers : 10.1\n",
      "12.0 - 1.9 = 10.1\n"
     ]
    }
   ],
   "source": [
    "def loop():\n",
    "    choice = input(\"Do you want to continue? (Y,N): \")\n",
    "    if choice.upper() == \"Y\":\n",
    "        calculator()\n",
    "    elif choice.upper() == \"N\":\n",
    "        print(\"calculation ends here!\")\n",
    "    else:\n",
    "        print(\"this is Invalid input!\")\n",
    "        loop()\n",
    "        \n",
    "if __name__ == \"__main__\":\n",
    "    calculator()\n",
    "    loop()"
   ]
  },
  {
   "cell_type": "code",
   "execution_count": null,
   "id": "5c3b3a81",
   "metadata": {},
   "outputs": [],
   "source": []
  }
 ],
 "metadata": {
  "kernelspec": {
   "display_name": "Python 3 (ipykernel)",
   "language": "python",
   "name": "python3"
  },
  "language_info": {
   "codemirror_mode": {
    "name": "ipython",
    "version": 3
   },
   "file_extension": ".py",
   "mimetype": "text/x-python",
   "name": "python",
   "nbconvert_exporter": "python",
   "pygments_lexer": "ipython3",
   "version": "3.9.13"
  }
 },
 "nbformat": 4,
 "nbformat_minor": 5
}
