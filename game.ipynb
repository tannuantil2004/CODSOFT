{
 "cells": [
  {
   "cell_type": "markdown",
   "id": "a0caf741",
   "metadata": {},
   "source": [
    "# Function for determing winner "
   ]
  },
  {
   "cell_type": "code",
   "execution_count": 17,
   "id": "3eb0e0b3",
   "metadata": {},
   "outputs": [],
   "source": [
    "import random\n",
    "\n",
    "def determine_winner(u1_name, u1_choice, computer_choice):\n",
    "    if u1_choice == computer_choice:\n",
    "        return \"It's a tie!\"\n",
    "    elif (u1_choice == 1 and computer_choice == 3) or \\\n",
    "         (u1_choice == 2 and computer_choice == 1) or \\\n",
    "         (u1_choice == 3 and computer_choice == 2):\n",
    "        return f\"{u1_name} wins!\"\n",
    "    else:\n",
    "        return \"Computer wins!\""
   ]
  },
  {
   "cell_type": "markdown",
   "id": "133e4ab5",
   "metadata": {},
   "source": [
    "#  Function for take choice of the user "
   ]
  },
  {
   "cell_type": "code",
   "execution_count": 18,
   "id": "d8f6657d",
   "metadata": {},
   "outputs": [],
   "source": [
    "def get_choice(user_name):\n",
    "    while True:\n",
    "        try:\n",
    "            choice = int(input(f\"{user_name}, enter your choice (1 for Rock, 2 for Paper, 3 for Scissors): \"))\n",
    "            if choice in [1, 2, 3]:\n",
    "                return choice\n",
    "            else:\n",
    "                print(\"Invalid choice. Please choose 1 for Rock, 2 for Paper, or 3 for Scissors.\")\n",
    "        except ValueError:\n",
    "            print(\"Invalid input. Please enter a number.\")"
   ]
  },
  {
   "cell_type": "markdown",
   "id": "3ca0c1d2",
   "metadata": {},
   "source": [
    "# Function for playing game "
   ]
  },
  {
   "cell_type": "code",
   "execution_count": 19,
   "id": "1b35259f",
   "metadata": {},
   "outputs": [],
   "source": [
    "\n",
    "def play_game(u1_name):\n",
    "    user_score = 0\n",
    "    computer_score = 0\n",
    "    \n",
    "    while True:\n",
    "        print(f\"\\nScore - {u1_name}: {user_score}  Computer: {computer_score}\")\n",
    "        u1_choice = get_choice(u1_name)\n",
    "        computer_choice = random.randint(1, 3)\n",
    "        print(f\"Computer chooses: {computer_choice}\")\n",
    "        \n",
    "        result = determine_winner(u1_name, u1_choice, computer_choice)\n",
    "        print(result)\n",
    "        \n",
    "        if result == f\"{u1_name} wins!\":\n",
    "            user_score += 1\n",
    "        elif result == \"Computer wins!\":\n",
    "            computer_score += 1\n",
    "            print(f\"{u1_name} lost!\")\n",
    "        \n",
    "        play_again = input(\"Play again? (yes/no): \").lower()\n",
    "        if play_again != 'yes':\n",
    "            print(\"Game ended. Final scores:\")\n",
    "            print(f\"{u1_name}: {user_score}  Computer: {computer_score}\")\n",
    "            break"
   ]
  },
  {
   "cell_type": "markdown",
   "id": "3ef7bc0e",
   "metadata": {},
   "source": [
    "# Function for taking name of user  and comiple the functions "
   ]
  },
  {
   "cell_type": "code",
   "execution_count": 20,
   "id": "9ad311a6",
   "metadata": {},
   "outputs": [
    {
     "name": "stdout",
     "output_type": "stream",
     "text": [
      "Welcome to Rock-Paper-Scissors Game!\n",
      "Rules: Rock beats Scissors, Scissors beat Paper, Paper beats Rock.\n",
      "Enter your name: tannu\n",
      "\n",
      "Score - tannu: 0  Computer: 0\n",
      "tannu, enter your choice (1 for Rock, 2 for Paper, 3 for Scissors): 1\n",
      "Computer chooses: 1\n",
      "It's a tie!\n",
      "Play again? (yes/no): yes\n",
      "\n",
      "Score - tannu: 0  Computer: 0\n",
      "tannu, enter your choice (1 for Rock, 2 for Paper, 3 for Scissors): 2\n",
      "Computer chooses: 1\n",
      "tannu wins!\n",
      "Play again? (yes/no): yes\n",
      "\n",
      "Score - tannu: 1  Computer: 0\n",
      "tannu, enter your choice (1 for Rock, 2 for Paper, 3 for Scissors): 3\n",
      "Computer chooses: 2\n",
      "tannu wins!\n",
      "Play again? (yes/no): yes\n",
      "\n",
      "Score - tannu: 2  Computer: 0\n",
      "tannu, enter your choice (1 for Rock, 2 for Paper, 3 for Scissors): 4\n",
      "Invalid choice. Please choose 1 for Rock, 2 for Paper, or 3 for Scissors.\n",
      "tannu, enter your choice (1 for Rock, 2 for Paper, 3 for Scissors): 1\n",
      "Computer chooses: 3\n",
      "tannu wins!\n",
      "Play again? (yes/no): no\n",
      "Game ended. Final scores:\n",
      "tannu: 3  Computer: 0\n"
     ]
    }
   ],
   "source": [
    "def main():\n",
    "    print(\"Welcome to Rock-Paper-Scissors Game!\")\n",
    "    print(\"Rules: Rock beats Scissors, Scissors beat Paper, Paper beats Rock.\")\n",
    "    \n",
    "    u1_name = input(\"Enter your name: \")\n",
    "    play_game(u1_name)\n",
    "\n",
    "if __name__ == \"__main__\":\n",
    "    main()"
   ]
  },
  {
   "cell_type": "code",
   "execution_count": null,
   "id": "430f7252",
   "metadata": {},
   "outputs": [],
   "source": []
  }
 ],
 "metadata": {
  "kernelspec": {
   "display_name": "Python 3 (ipykernel)",
   "language": "python",
   "name": "python3"
  },
  "language_info": {
   "codemirror_mode": {
    "name": "ipython",
    "version": 3
   },
   "file_extension": ".py",
   "mimetype": "text/x-python",
   "name": "python",
   "nbconvert_exporter": "python",
   "pygments_lexer": "ipython3",
   "version": "3.9.13"
  }
 },
 "nbformat": 4,
 "nbformat_minor": 5
}
