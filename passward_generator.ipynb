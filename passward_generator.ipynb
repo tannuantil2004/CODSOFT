{
 "cells": [
  {
   "cell_type": "markdown",
   "id": "0c75a5c0",
   "metadata": {},
   "source": [
    "#  All modules used "
   ]
  },
  {
   "cell_type": "code",
   "execution_count": 1,
   "id": "0c729614",
   "metadata": {},
   "outputs": [],
   "source": [
    "import random\n",
    "import string\n",
    "import tkinter as tk\n",
    "from tkinter import ttk"
   ]
  },
  {
   "cell_type": "markdown",
   "id": "245d79ab",
   "metadata": {},
   "source": [
    "#  Function to generate passward complexity "
   ]
  },
  {
   "cell_type": "code",
   "execution_count": 2,
   "id": "478eb5a5",
   "metadata": {},
   "outputs": [],
   "source": [
    "def gen_password(length, complexity):\n",
    "    if complexity == 1:\n",
    "        characters = string.ascii_lowercase\n",
    "    elif complexity == 2:\n",
    "        characters = string.ascii_letters\n",
    "    elif complexity == 3:\n",
    "        characters = string.ascii_letters + string.digits\n",
    "    else:\n",
    "        characters = string.ascii_letters + string.digits + string.punctuation\n",
    "    return ''.join(random.choice(characters) for _ in range(length))"
   ]
  },
  {
   "cell_type": "markdown",
   "id": "5f475994",
   "metadata": {},
   "source": [
    "# Function to take length and display passward "
   ]
  },
  {
   "cell_type": "code",
   "execution_count": 3,
   "id": "d351fc5f",
   "metadata": {},
   "outputs": [],
   "source": [
    "def generate():\n",
    "    try:\n",
    "        length = int(length_var.get())\n",
    "        complexity = complexity_var.get()\n",
    "        password = gen_password(length, complexity)\n",
    "        result.set(password)\n",
    "    except ValueError:\n",
    "        result.set(\"Invalid input!\")"
   ]
  },
  {
   "cell_type": "markdown",
   "id": "7e95fc98",
   "metadata": {},
   "source": [
    "#  New window built with tkinter module"
   ]
  },
  {
   "cell_type": "code",
   "execution_count": 4,
   "id": "47d147bc",
   "metadata": {},
   "outputs": [],
   "source": [
    "password = tk.Tk()\n",
    "password.title(\"Password Generator\")\n",
    "password.configure(bg=\"#e0f7fa\")\n",
    "\n",
    "ttk.Label(password, text=\"Password Length:\").grid(row=0, column=0, padx=10, pady=10)\n",
    "length_var = tk.StringVar()\n",
    "ttk.Entry(password, textvariable=length_var).grid(row=0, column=1, padx=10, pady=10)\n",
    "\n",
    "ttk.Label(password, text=\"Complexity:\").grid(row=1, column=0, padx=10, pady=10)\n",
    "complexity_var = tk.IntVar()\n",
    "complexity_options = [\n",
    "    (\"If you want pass in Lowercase\", 1),\n",
    "    (\"If you want pass in Letters\", 2),\n",
    "    (\"If you want pass in Letters & Digits\", 3),\n",
    "    (\"If you want pass in Letters, Digits & Symbols\", 4)\n",
    "]\n",
    "for text, value in complexity_options:\n",
    "    ttk.Radiobutton(password, text=text, variable=complexity_var, value=value).grid(row=value, column=1, sticky=tk.W)\n",
    "\n",
    "ttk.Button(password, text=\"Generate Password\", command=generate).grid(row=5, column=0, columnspan=2, pady=10)\n",
    "\n",
    "result = tk.StringVar()\n",
    "ttk.Entry(password, textvariable=result).grid(row=6, column=0, columnspan=2, pady=10)\n",
    "\n",
    "password.mainloop()"
   ]
  },
  {
   "cell_type": "code",
   "execution_count": null,
   "id": "a5be25cd",
   "metadata": {},
   "outputs": [],
   "source": []
  },
  {
   "cell_type": "code",
   "execution_count": null,
   "id": "7d8c9966",
   "metadata": {},
   "outputs": [],
   "source": []
  },
  {
   "cell_type": "code",
   "execution_count": null,
   "id": "62271e67",
   "metadata": {},
   "outputs": [],
   "source": []
  }
 ],
 "metadata": {
  "kernelspec": {
   "display_name": "Python 3 (ipykernel)",
   "language": "python",
   "name": "python3"
  },
  "language_info": {
   "codemirror_mode": {
    "name": "ipython",
    "version": 3
   },
   "file_extension": ".py",
   "mimetype": "text/x-python",
   "name": "python",
   "nbconvert_exporter": "python",
   "pygments_lexer": "ipython3",
   "version": "3.9.13"
  }
 },
 "nbformat": 4,
 "nbformat_minor": 5
}
