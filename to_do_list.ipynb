{
 "cells": [
  {
   "cell_type": "code",
   "execution_count": 20,
   "id": "6b34cbc5",
   "metadata": {},
   "outputs": [],
   "source": [
    "import tkinter as tk\n",
    "from tkinter import messagebox"
   ]
  },
  {
   "cell_type": "markdown",
   "id": "6494bd7b",
   "metadata": {},
   "source": [
    "# Functions for load task, save task "
   ]
  },
  {
   "cell_type": "code",
   "execution_count": 21,
   "id": "f649cbaa",
   "metadata": {},
   "outputs": [],
   "source": [
    "tasks = []\n",
    "\n",
    "def load_tasks():\n",
    "    try:\n",
    "        with open('tasks.txt', 'r') as file:\n",
    "            for task in file:\n",
    "                tasks.append(task.strip())\n",
    "                tasks_listbox.insert(tk.END, task.strip())\n",
    "    except FileNotFoundError:\n",
    "        pass\n",
    "def save_tasks():\n",
    "    with open('tasks.txt', 'w') as file:\n",
    "        for task in tasks:\n",
    "            file.write(task + '\\n')"
   ]
  },
  {
   "cell_type": "markdown",
   "id": "279739e5",
   "metadata": {},
   "source": [
    "# Function for add button, update button, delete button, mark complete button"
   ]
  },
  {
   "cell_type": "code",
   "execution_count": 22,
   "id": "af465661",
   "metadata": {},
   "outputs": [],
   "source": [
    "def add_task():\n",
    "    task = task_entry.get()\n",
    "    if task:\n",
    "        tasks.append(task)\n",
    "        tasks_listbox.insert(tk.END, task)\n",
    "        task_entry.delete(0, tk.END)\n",
    "        save_tasks()\n",
    "\n",
    "def update_task():\n",
    "    selected_task_index = tasks_listbox.curselection()\n",
    "    if selected_task_index:\n",
    "        new_task = task_entry.get()\n",
    "        if new_task:\n",
    "            tasks[selected_task_index[0]] = new_task\n",
    "            tasks_listbox.delete(selected_task_index)\n",
    "            tasks_listbox.insert(selected_task_index, new_task)\n",
    "            task_entry.delete(0, tk.END)\n",
    "            save_tasks()\n",
    "\n",
    "def delete_task():\n",
    "    selected_task_index = tasks_listbox.curselection()\n",
    "    if selected_task_index:\n",
    "        tasks.pop(selected_task_index[0])\n",
    "        tasks_listbox.delete(selected_task_index)\n",
    "        save_tasks()\n",
    "\n",
    "def mark_task_completed():\n",
    "    selected_task_index = tasks_listbox.curselection()\n",
    "    if selected_task_index:\n",
    "        task = tasks[selected_task_index[0]]\n",
    "        tasks[selected_task_index[0]] = task + \" (Completed)\"\n",
    "        tasks_listbox.delete(selected_task_index)\n",
    "        tasks_listbox.insert(selected_task_index, task + \" (Completed)\")\n",
    "        save_tasks()"
   ]
  },
  {
   "cell_type": "markdown",
   "id": "60bd2988",
   "metadata": {},
   "source": [
    "# window of application "
   ]
  },
  {
   "cell_type": "code",
   "execution_count": 23,
   "id": "d79c3674",
   "metadata": {},
   "outputs": [],
   "source": [
    "# Create the main window\n",
    "schedule_list = tk.Tk()\n",
    "schedule_list.title(\"To-Do List\")\n",
    "schedule_list.geometry(\"500x550\")\n",
    "schedule_list.configure(bg=\"#E6E6FA\")  # Set peach background color for the window\n",
    "\n",
    "# Task entry widget\n",
    "name = tk.Label(schedule_list,text = \"Write the task to be done and then add task\")\n",
    "name.pack(pady=2)\n",
    "task_entry = tk.Entry(schedule_list, width=50)\n",
    "task_entry.pack(pady=10)"
   ]
  },
  {
   "cell_type": "markdown",
   "id": "36141728",
   "metadata": {},
   "source": [
    "# styling "
   ]
  },
  {
   "cell_type": "code",
   "execution_count": 24,
   "id": "938276f4",
   "metadata": {},
   "outputs": [],
   "source": [
    "# Button styles\n",
    "button_style_add = {\n",
    "    \"bg\": \"#FFB6C1\",       # Green background color\n",
    "    \"fg\": \"#ffffff\",       # White text color\n",
    "    \"font\": (\"Helvetica\", 10, \"bold\"),  # Font style\n",
    "    \"relief\": \"raised\",\n",
    "    \"bd\": 3,\n",
    "}\n",
    "\n",
    "button_style_update = {\n",
    "    \"bg\": \"#FF34B3\",       # Blue background color\n",
    "    \"fg\": \"#ffffff\",       # White text color\n",
    "    \"font\": (\"Helvetica\", 10, \"bold\"),  # Font style\n",
    "    \"relief\": \"raised\",\n",
    "    \"bd\": 3,\n",
    "}\n",
    "\n",
    "button_style_delete = {\n",
    "    \"bg\": \"#8EE5EE\",       # Red background color\n",
    "    \"fg\": \"#ffffff\",       # White text color\n",
    "    \"font\": (\"Helvetica\", 10, \"bold\"),  # Font style\n",
    "    \"relief\": \"raised\",\n",
    "    \"bd\": 3,\n",
    "}\n",
    "\n",
    "button_style_complete = {\n",
    "    \"bg\": \"#00FA9A\",       # Orange background color\n",
    "    \"fg\": \"#ffffff\",       # White text color\n",
    "    \"font\": (\"Helvetica\", 10, \"bold\"),  # Font style\n",
    "    \"relief\": \"raised\",\n",
    "    \"bd\": 3,\n",
    "}\n"
   ]
  },
  {
   "cell_type": "markdown",
   "id": "13b332ff",
   "metadata": {},
   "source": [
    "# All buttons "
   ]
  },
  {
   "cell_type": "code",
   "execution_count": 25,
   "id": "7257c0d7",
   "metadata": {},
   "outputs": [],
   "source": [
    "# Add task button\n",
    "add_button = tk.Button(schedule_list, text=\"Add Task\", command=add_task, **button_style_add)\n",
    "add_button.pack(pady=5)\n",
    "\n",
    "# Listbox to display tasks\n",
    "name2 = tk.Label(schedule_list,text = \"Schedule List\")\n",
    "name2.pack(pady=7)\n",
    "tasks_listbox = tk.Listbox(schedule_list, width=50, height=10, bg=\"#ffffff\", fg=\"#000000\")\n",
    "tasks_listbox.pack(pady=10)\n",
    "\n",
    "# Update task button\n",
    "name3 = tk.Label(schedule_list,text = \"Select the task press update to make changes in schule list\")\n",
    "name3.pack(pady=2)\n",
    "update_button = tk.Button(schedule_list, text=\"Update Task\", command=update_task, **button_style_update)\n",
    "update_button.pack(pady=5)\n",
    "\n",
    "# Delete task button\n",
    "name4 = tk.Label(schedule_list,text = \"Select the task press delete\")\n",
    "name4.pack(pady=2)\n",
    "delete_button = tk.Button(schedule_list, text=\"Delete Task\", command=delete_task, **button_style_delete)\n",
    "delete_button.pack(pady=5)\n",
    "\n",
    "# Mark task as completed button\n",
    "name5 = tk.Label(schedule_list,text = \"Select the task press Mark as complete\")\n",
    "name5.pack(pady=2)\n",
    "complete_button = tk.Button(schedule_list, text=\"Mark as Completed\", command=mark_task_completed, **button_style_complete)\n",
    "complete_button.pack(pady=5)\n",
    "\n",
    "# Load tasks from file\n",
    "load_tasks()\n",
    "\n",
    "# Start the Tkinter event loop\n",
    "schedule_list.mainloop()"
   ]
  },
  {
   "cell_type": "code",
   "execution_count": null,
   "id": "e8c0fef1",
   "metadata": {},
   "outputs": [],
   "source": []
  },
  {
   "cell_type": "code",
   "execution_count": null,
   "id": "3d8b06de",
   "metadata": {},
   "outputs": [],
   "source": []
  }
 ],
 "metadata": {
  "kernelspec": {
   "display_name": "Python 3 (ipykernel)",
   "language": "python",
   "name": "python3"
  },
  "language_info": {
   "codemirror_mode": {
    "name": "ipython",
    "version": 3
   },
   "file_extension": ".py",
   "mimetype": "text/x-python",
   "name": "python",
   "nbconvert_exporter": "python",
   "pygments_lexer": "ipython3",
   "version": "3.9.13"
  }
 },
 "nbformat": 4,
 "nbformat_minor": 5
}
